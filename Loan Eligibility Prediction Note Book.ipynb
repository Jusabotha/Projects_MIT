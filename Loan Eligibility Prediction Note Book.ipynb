{
 "cells": [
  {
   "cell_type": "markdown",
   "metadata": {
    "id": "VZKP0katDPx6"
   },
   "source": [
    "# Loan Eligibility Prediction\n",
    "\n",
    "\n",
    "Welcome to the Project on classification. I will be using the credit risk dataset for this problem.\n",
    "\n",
    "----------------\n",
    "## Context: \n",
    "----------------\n",
    "\n",
    "Credit risk is the risk of loss resulting from the failure by a borrower to repay the principal and interest owed to the lender. The lender uses the interest payments from the loan to compensate for the risk of potential losses. When the borrower defaults on his/her obligations, it causes an interruption in the cash flow of the lender.\n",
    "\n",
    "In the banking sector, this is an important factor to be considered before approving the loan of an applicant in order to cushion the lender from loss of cash flow and reduce the severity of losses. \n",
    "\n",
    "------------------\n",
    "## Objective:\n",
    "------------------\n",
    "\n",
    "Easy House is a finance company that deals in several varieties of home loans. They have a presence across urban, semi-urban, and rural areas. Currently, the customer first applies for a home loan post which the company validates the customer's eligibility for that loan. \n",
    "\n",
    "Now, the company wants to automate the loan eligibility process. They want to harness their past customers' data to build a model to predict whether the loan should be approved or not. This would help the company prevent potential losses, save time and focus more on eligible customers.\n",
    "\n",
    "--------------------------\n",
    "## Data Dictionary:\n",
    "--------------------------\n",
    "\n",
    "The data contains the following attributes:\n",
    "\n",
    "* **Loan_ID**: Unique Loan ID\n",
    "* **Gender**: Gender of the applicant - Male/Female\n",
    "* **Married**: Whether the applicant is married or not (Yes/No)\n",
    "* **Dependents**: Number of dependents of the applicant\n",
    "* **Education**: Applicant's education (Graduate/Not Graduate)\n",
    "* **Self_Employed**: Whether the applicant is self-employed (Yes/No)\n",
    "* **ApplicantIncome**: The income of the applicant (\\$)\n",
    "* **CoapplicantIncome**: The co-applicant's income in case of a joint loan and 0 otherwise (\\$)\n",
    "* **LoanAmount**: Loan amount (dollars in thousands) \n",
    "* **Loan_Amount_Term**: Term of loan in months\n",
    "* **Credit_History**: Whether the applicant's credit history meets required guidelines\n",
    "* **Property_Area**: The area the property pertaining to the loan belongs to - Urban/Semi-Urban/Rural\n",
    "* **Loan_Status**: Loan approved (1 - Yes, 0 - No)"
   ]
  },
  {
   "cell_type": "markdown",
   "metadata": {
    "id": "GLmC-0-fDPyI"
   },
   "source": [
    "## Importing necessary libraries and overview of the dataset"
   ]
  },
  {
   "cell_type": "code",
   "execution_count": 1,
   "metadata": {
    "id": "zeF8YaNKDPyK"
   },
   "outputs": [],
   "source": [
    "import pandas as pd\n",
    "import numpy as np\n",
    "import matplotlib.pyplot as plt\n",
    "import seaborn as sns\n",
    "\n",
    "#to split the data into train and test data\n",
    "from sklearn.model_selection import train_test_split\n",
    "#to build a logistic regression model\n",
    "from sklearn.linear_model import LogisticRegression\n",
    "\n",
    "#to build SVM model\n",
    "from sklearn.svm import SVC\n",
    "\n",
    "#Metrics to evaluate the model\n",
    "from sklearn.metrics import confusion_matrix, classification_report, precision_recall_curve\n",
    "\n",
    "import warnings\n",
    "warnings.filterwarnings(\"ignore\")"
   ]
  },
  {
   "cell_type": "markdown",
   "metadata": {
    "id": "Xtgae1VCDPyO"
   },
   "source": [
    "#### Loading data"
   ]
  },
  {
   "cell_type": "code",
   "execution_count": 2,
   "metadata": {
    "id": "4VRuDPneDPyQ",
    "outputId": "1890a81a-61ce-449c-eb76-4096cb81569d"
   },
   "outputs": [
    {
     "data": {
      "text/html": [
       "<div>\n",
       "<style scoped>\n",
       "    .dataframe tbody tr th:only-of-type {\n",
       "        vertical-align: middle;\n",
       "    }\n",
       "\n",
       "    .dataframe tbody tr th {\n",
       "        vertical-align: top;\n",
       "    }\n",
       "\n",
       "    .dataframe thead th {\n",
       "        text-align: right;\n",
       "    }\n",
       "</style>\n",
       "<table border=\"1\" class=\"dataframe\">\n",
       "  <thead>\n",
       "    <tr style=\"text-align: right;\">\n",
       "      <th></th>\n",
       "      <th>Loan_ID</th>\n",
       "      <th>Gender</th>\n",
       "      <th>Married</th>\n",
       "      <th>Dependents</th>\n",
       "      <th>Education</th>\n",
       "      <th>Self_Employed</th>\n",
       "      <th>ApplicantIncome</th>\n",
       "      <th>CoapplicantIncome</th>\n",
       "      <th>LoanAmount</th>\n",
       "      <th>Loan_Amount_Term</th>\n",
       "      <th>Credit_History</th>\n",
       "      <th>Property_Area</th>\n",
       "      <th>Loan_Status</th>\n",
       "    </tr>\n",
       "  </thead>\n",
       "  <tbody>\n",
       "    <tr>\n",
       "      <th>0</th>\n",
       "      <td>LP001002</td>\n",
       "      <td>Male</td>\n",
       "      <td>No</td>\n",
       "      <td>0</td>\n",
       "      <td>Graduate</td>\n",
       "      <td>No</td>\n",
       "      <td>5849</td>\n",
       "      <td>0.0</td>\n",
       "      <td>0</td>\n",
       "      <td>360.0</td>\n",
       "      <td>1.0</td>\n",
       "      <td>Urban</td>\n",
       "      <td>1</td>\n",
       "    </tr>\n",
       "    <tr>\n",
       "      <th>1</th>\n",
       "      <td>LP001003</td>\n",
       "      <td>Male</td>\n",
       "      <td>Yes</td>\n",
       "      <td>1</td>\n",
       "      <td>Graduate</td>\n",
       "      <td>No</td>\n",
       "      <td>4583</td>\n",
       "      <td>1508.0</td>\n",
       "      <td>128</td>\n",
       "      <td>360.0</td>\n",
       "      <td>1.0</td>\n",
       "      <td>Rural</td>\n",
       "      <td>0</td>\n",
       "    </tr>\n",
       "    <tr>\n",
       "      <th>2</th>\n",
       "      <td>LP001005</td>\n",
       "      <td>Male</td>\n",
       "      <td>Yes</td>\n",
       "      <td>0</td>\n",
       "      <td>Graduate</td>\n",
       "      <td>Yes</td>\n",
       "      <td>3000</td>\n",
       "      <td>0.0</td>\n",
       "      <td>66</td>\n",
       "      <td>360.0</td>\n",
       "      <td>1.0</td>\n",
       "      <td>Urban</td>\n",
       "      <td>1</td>\n",
       "    </tr>\n",
       "    <tr>\n",
       "      <th>3</th>\n",
       "      <td>LP001006</td>\n",
       "      <td>Male</td>\n",
       "      <td>Yes</td>\n",
       "      <td>0</td>\n",
       "      <td>Not Graduate</td>\n",
       "      <td>No</td>\n",
       "      <td>2583</td>\n",
       "      <td>2358.0</td>\n",
       "      <td>120</td>\n",
       "      <td>360.0</td>\n",
       "      <td>1.0</td>\n",
       "      <td>Urban</td>\n",
       "      <td>1</td>\n",
       "    </tr>\n",
       "    <tr>\n",
       "      <th>4</th>\n",
       "      <td>LP001008</td>\n",
       "      <td>Male</td>\n",
       "      <td>No</td>\n",
       "      <td>0</td>\n",
       "      <td>Graduate</td>\n",
       "      <td>No</td>\n",
       "      <td>6000</td>\n",
       "      <td>0.0</td>\n",
       "      <td>141</td>\n",
       "      <td>360.0</td>\n",
       "      <td>1.0</td>\n",
       "      <td>Urban</td>\n",
       "      <td>1</td>\n",
       "    </tr>\n",
       "  </tbody>\n",
       "</table>\n",
       "</div>"
      ],
      "text/plain": [
       "    Loan_ID Gender Married Dependents     Education Self_Employed  \\\n",
       "0  LP001002   Male      No          0      Graduate            No   \n",
       "1  LP001003   Male     Yes          1      Graduate            No   \n",
       "2  LP001005   Male     Yes          0      Graduate           Yes   \n",
       "3  LP001006   Male     Yes          0  Not Graduate            No   \n",
       "4  LP001008   Male      No          0      Graduate            No   \n",
       "\n",
       "   ApplicantIncome  CoapplicantIncome  LoanAmount  Loan_Amount_Term  \\\n",
       "0             5849                0.0           0             360.0   \n",
       "1             4583             1508.0         128             360.0   \n",
       "2             3000                0.0          66             360.0   \n",
       "3             2583             2358.0         120             360.0   \n",
       "4             6000                0.0         141             360.0   \n",
       "\n",
       "   Credit_History Property_Area  Loan_Status  \n",
       "0             1.0         Urban            1  \n",
       "1             1.0         Rural            0  \n",
       "2             1.0         Urban            1  \n",
       "3             1.0         Urban            1  \n",
       "4             1.0         Urban            1  "
      ]
     },
     "execution_count": 2,
     "metadata": {},
     "output_type": "execute_result"
    }
   ],
   "source": [
    "data = pd.read_csv(\"CreditRisk.csv\")\n",
    "data.head()"
   ]
  },
  {
   "cell_type": "markdown",
   "metadata": {
    "id": "7zmvKC9aDPya"
   },
   "source": [
    "#### Check the info of the data"
   ]
  },
  {
   "cell_type": "code",
   "execution_count": 3,
   "metadata": {
    "id": "WFXzpvckDPyc",
    "outputId": "da1d04ad-dc46-418e-bfcd-ca600b2beb83"
   },
   "outputs": [
    {
     "name": "stdout",
     "output_type": "stream",
     "text": [
      "<class 'pandas.core.frame.DataFrame'>\n",
      "RangeIndex: 614 entries, 0 to 613\n",
      "Data columns (total 13 columns):\n",
      " #   Column             Non-Null Count  Dtype  \n",
      "---  ------             --------------  -----  \n",
      " 0   Loan_ID            614 non-null    object \n",
      " 1   Gender             601 non-null    object \n",
      " 2   Married            611 non-null    object \n",
      " 3   Dependents         599 non-null    object \n",
      " 4   Education          614 non-null    object \n",
      " 5   Self_Employed      582 non-null    object \n",
      " 6   ApplicantIncome    614 non-null    int64  \n",
      " 7   CoapplicantIncome  614 non-null    float64\n",
      " 8   LoanAmount         614 non-null    int64  \n",
      " 9   Loan_Amount_Term   600 non-null    float64\n",
      " 10  Credit_History     564 non-null    float64\n",
      " 11  Property_Area      614 non-null    object \n",
      " 12  Loan_Status        614 non-null    int64  \n",
      "dtypes: float64(3), int64(3), object(7)\n",
      "memory usage: 62.5+ KB\n"
     ]
    }
   ],
   "source": [
    "data.info()"
   ]
  },
  {
   "cell_type": "markdown",
   "metadata": {
    "id": "zVm4D1InDPye"
   },
   "source": [
    "**Observations:**\n",
    "\n",
    "- There are 614 observations and 13 columns in the data.\n",
    "- ApplicantIncome, CoapplicantIncome, Loan_Amount_Term, Credit_History, and Loan_Status are numeric data types. The rest of the variables are of the object data type.\n",
    "- There are several columns with less than 614 non-null entries i.e. these columns have missing values.\n",
    "- Loan_ID column is an identifier. Let's check if each entry of the column is unique."
   ]
  },
  {
   "cell_type": "markdown",
   "metadata": {
    "id": "__7ciGcIDPyk"
   },
   "source": [
    "## Exploratory Data Analysis and Data Preprocessing"
   ]
  },
  {
   "cell_type": "markdown",
   "metadata": {
    "id": "lDXcPkLkDPym"
   },
   "source": [
    "#### Dropping Loan_ID column"
   ]
  },
  {
   "cell_type": "code",
   "execution_count": 4,
   "metadata": {
    "id": "_ei57w6EDPym"
   },
   "outputs": [],
   "source": [
    "data.drop(columns=['Loan_ID'], inplace=True)"
   ]
  },
  {
   "cell_type": "markdown",
   "metadata": {
    "id": "wU2dvaXZDPyn"
   },
   "source": [
    "#### Summary Statistics for numerical columns"
   ]
  },
  {
   "cell_type": "code",
   "execution_count": 5,
   "metadata": {
    "id": "hWxLHPlVDPyp",
    "outputId": "edaf61ba-a7bb-4b19-dcda-6b6a6f837d3d"
   },
   "outputs": [
    {
     "data": {
      "text/html": [
       "<div>\n",
       "<style scoped>\n",
       "    .dataframe tbody tr th:only-of-type {\n",
       "        vertical-align: middle;\n",
       "    }\n",
       "\n",
       "    .dataframe tbody tr th {\n",
       "        vertical-align: top;\n",
       "    }\n",
       "\n",
       "    .dataframe thead th {\n",
       "        text-align: right;\n",
       "    }\n",
       "</style>\n",
       "<table border=\"1\" class=\"dataframe\">\n",
       "  <thead>\n",
       "    <tr style=\"text-align: right;\">\n",
       "      <th></th>\n",
       "      <th>count</th>\n",
       "      <th>mean</th>\n",
       "      <th>std</th>\n",
       "      <th>min</th>\n",
       "      <th>25%</th>\n",
       "      <th>50%</th>\n",
       "      <th>75%</th>\n",
       "      <th>max</th>\n",
       "    </tr>\n",
       "  </thead>\n",
       "  <tbody>\n",
       "    <tr>\n",
       "      <th>ApplicantIncome</th>\n",
       "      <td>614.0</td>\n",
       "      <td>5403.459283</td>\n",
       "      <td>6109.041673</td>\n",
       "      <td>150.0</td>\n",
       "      <td>2877.5</td>\n",
       "      <td>3812.5</td>\n",
       "      <td>5795.00</td>\n",
       "      <td>81000.0</td>\n",
       "    </tr>\n",
       "    <tr>\n",
       "      <th>CoapplicantIncome</th>\n",
       "      <td>614.0</td>\n",
       "      <td>1621.245798</td>\n",
       "      <td>2926.248369</td>\n",
       "      <td>0.0</td>\n",
       "      <td>0.0</td>\n",
       "      <td>1188.5</td>\n",
       "      <td>2297.25</td>\n",
       "      <td>41667.0</td>\n",
       "    </tr>\n",
       "    <tr>\n",
       "      <th>LoanAmount</th>\n",
       "      <td>614.0</td>\n",
       "      <td>141.166124</td>\n",
       "      <td>88.340630</td>\n",
       "      <td>0.0</td>\n",
       "      <td>98.0</td>\n",
       "      <td>125.0</td>\n",
       "      <td>164.75</td>\n",
       "      <td>700.0</td>\n",
       "    </tr>\n",
       "    <tr>\n",
       "      <th>Loan_Amount_Term</th>\n",
       "      <td>600.0</td>\n",
       "      <td>342.000000</td>\n",
       "      <td>65.120410</td>\n",
       "      <td>12.0</td>\n",
       "      <td>360.0</td>\n",
       "      <td>360.0</td>\n",
       "      <td>360.00</td>\n",
       "      <td>480.0</td>\n",
       "    </tr>\n",
       "  </tbody>\n",
       "</table>\n",
       "</div>"
      ],
      "text/plain": [
       "                   count         mean          std    min     25%     50%  \\\n",
       "ApplicantIncome    614.0  5403.459283  6109.041673  150.0  2877.5  3812.5   \n",
       "CoapplicantIncome  614.0  1621.245798  2926.248369    0.0     0.0  1188.5   \n",
       "LoanAmount         614.0   141.166124    88.340630    0.0    98.0   125.0   \n",
       "Loan_Amount_Term   600.0   342.000000    65.120410   12.0   360.0   360.0   \n",
       "\n",
       "                       75%      max  \n",
       "ApplicantIncome    5795.00  81000.0  \n",
       "CoapplicantIncome  2297.25  41667.0  \n",
       "LoanAmount          164.75    700.0  \n",
       "Loan_Amount_Term    360.00    480.0  "
      ]
     },
     "execution_count": 5,
     "metadata": {},
     "output_type": "execute_result"
    }
   ],
   "source": [
    "#Creating a list of numerical columns\n",
    "num_cols = ['ApplicantIncome', 'CoapplicantIncome', 'LoanAmount', 'Loan_Amount_Term']\n",
    "\n",
    "data[num_cols].describe().T"
   ]
  },
  {
   "cell_type": "markdown",
   "metadata": {
    "id": "hZj91HjhDPyr"
   },
   "source": [
    "**Observations:**\n",
    "\n",
    "- The average income of applicants is about 5.4K dollars. It has a large range of values from 150 to 81,000. It would be interesting to see if low applicant income implies a low loan amount.\n",
    "- The average co-applicant income is about 1.6K dollars which is much lower than the applicant's income. The 25th percentile value is 0 and the median value is 1,188 dollars which implies that the number of joint home loans is more than the number of non-joint loans.\n",
    "- The two columns `ApplicantIncome` and `CoapplicantIncome` give the same information i.e. income of applicants. It would be better to have that information in one column only. We can add these two columns to get the total income per application.\n",
    "- The 25th, 50th, and 75th percentile value of the loan term is 360 months i.e. 30 years. This implies that the majority of home loans in this dataset are for 30 years of term.\n",
    "- We can convert the scale of the loan term from months to years to make it easier to read.\n",
    "- The average loan amount is 1.41K dollars. It has a large range of values, which is to be expected. \n",
    "- The loan amount has zero values, which is absurd since loan amounts are meant to be non-zero. So we can treat 0's as missing values.\n",
    "\n",
    "Before imputing the missing values and 0's in `LoanAmount`, let's do some feature engineering and check the distributions, counts, and outliers for different variables."
   ]
  },
  {
   "cell_type": "markdown",
   "metadata": {
    "id": "aIVFJ11IDPyu"
   },
   "source": [
    "#### Feature Engineering"
   ]
  },
  {
   "cell_type": "code",
   "execution_count": 6,
   "metadata": {
    "id": "iA9yPLMGDPyu"
   },
   "outputs": [],
   "source": [
    "#Converting the scale of loan term from months to years\n",
    "data['Loan_Amount_Term']=data['Loan_Amount_Term']/12\n",
    "\n",
    "#Adding the applicant and co-applicant income to get the total income per application\n",
    "data['total_income']=data['ApplicantIncome'] + data['CoapplicantIncome']"
   ]
  },
  {
   "cell_type": "code",
   "execution_count": 7,
   "metadata": {
    "id": "-VIN5xybDPyw"
   },
   "outputs": [],
   "source": [
    "#Dropping the columns as we created a new column which captures the same information\n",
    "data.drop(columns=['ApplicantIncome', 'CoapplicantIncome'], inplace=True)"
   ]
  },
  {
   "cell_type": "markdown",
   "metadata": {
    "id": "BRkQPSCQDPyx"
   },
   "source": [
    "#### Check the distribution and outliers for each column in the data"
   ]
  },
  {
   "cell_type": "code",
   "execution_count": 8,
   "metadata": {
    "id": "Ep2s-qpXDPyx",
    "outputId": "fbcf3ff8-2fe2-43da-beb1-83c5d05756cf"
   },
   "outputs": [
    {
     "name": "stdout",
     "output_type": "stream",
     "text": [
      "LoanAmount\n",
      "Skew : 2.36\n"
     ]
    },
    {
     "data": {
      "image/png": "[encoded data removed]",
      "text/plain": [
       "<Figure size 1080x288 with 2 Axes>"
      ]
     },
     "metadata": {
      "needs_background": "light"
     },
     "output_type": "display_data"
    },
    {
     "name": "stdout",
     "output_type": "stream",
     "text": [
      "total_income\n",
      "Skew : 5.63\n"
     ]
    },
    {
     "data": {
      "image/png": "[encoded data removed]",
      "text/plain": [
       "<Figure size 1080x288 with 2 Axes>"
      ]
     },
     "metadata": {
      "needs_background": "light"
     },
     "output_type": "display_data"
    }
   ],
   "source": [
    "for col in ['LoanAmount', 'total_income']:\n",
    "    print(col)\n",
    "    print('Skew :',round(data[col].skew(),2))\n",
    "    plt.figure(figsize=(15,4))\n",
    "    plt.subplot(1,2,1)\n",
    "    data[col].hist(bins=10, grid=False)\n",
    "    plt.ylabel('count')\n",
    "    plt.subplot(1,2,2)\n",
    "    sns.boxplot(x=data[col])\n",
    "    plt.show()"
   ]
  },
  {
   "cell_type": "markdown",
   "metadata": {
    "id": "bIaj6W_MDPyz"
   },
   "source": [
    "**Observations:**\n",
    "\n",
    "- Both the variables are highly skewed to the right and have many outliers which can be expected as the data contains different types of areas - Rural, Urban & Semi-Urban. \n",
    "- We can observe from the histogram that majority of values for total income are less than 10K.\n",
    "\n",
    "Not, let's check the percentage of observations in each category for all the categorical variables."
   ]
  },
  {
   "cell_type": "markdown",
   "metadata": {
    "id": "-Rlb274WDPy0"
   },
   "source": [
    "#### Checking percentage of each category for categorical variables"
   ]
  },
  {
   "cell_type": "code",
   "execution_count": 9,
   "metadata": {
    "id": "x0l5pOwZDPy1",
    "outputId": "c902d4d2-01c4-4619-b0e7-980e4181dcd0"
   },
   "outputs": [
    {
     "name": "stdout",
     "output_type": "stream",
     "text": [
      "Male      0.813644\n",
      "Female    0.186356\n",
      "Name: Gender, dtype: float64\n",
      "****************************************\n",
      "Yes    0.651391\n",
      "No     0.348609\n",
      "Name: Married, dtype: float64\n",
      "****************************************\n",
      "0     0.575960\n",
      "1     0.170284\n",
      "2     0.168614\n",
      "3+    0.085142\n",
      "Name: Dependents, dtype: float64\n",
      "****************************************\n",
      "Graduate        0.781759\n",
      "Not Graduate    0.218241\n",
      "Name: Education, dtype: float64\n",
      "****************************************\n",
      "No     0.859107\n",
      "Yes    0.140893\n",
      "Name: Self_Employed, dtype: float64\n",
      "****************************************\n",
      "1.0    0.842199\n",
      "0.0    0.157801\n",
      "Name: Credit_History, dtype: float64\n",
      "****************************************\n",
      "Semiurban    0.379479\n",
      "Urban        0.328990\n",
      "Rural        0.291531\n",
      "Name: Property_Area, dtype: float64\n",
      "****************************************\n",
      "1    0.687296\n",
      "0    0.312704\n",
      "Name: Loan_Status, dtype: float64\n",
      "****************************************\n"
     ]
    }
   ],
   "source": [
    "#Creating list of categorical columns\n",
    "cat_col= ['Gender', 'Married', 'Dependents', 'Education', 'Self_Employed', 'Credit_History','Property_Area', 'Loan_Status']\n",
    "\n",
    "for col in cat_col:\n",
    "    print(data[col].value_counts(normalize=True))  #The parameter normalize=True gives the percentage of each category\n",
    "    print('*'*40)                                  #Print the * 40 times to separate different variables"
   ]
  },
  {
   "cell_type": "markdown",
   "metadata": {
    "id": "qz8FYrPyDPy2"
   },
   "source": [
    "**Observations:**\n",
    "\n",
    "- Percentage of male customers (approx 81%) is more than the percentage of female customers (approx 19%).\n",
    "- About 65% of customers are married. This indicates that married people apply more for the home loan as compared to non-married people.\n",
    "- The majority of customers have 0 or 1 dependents. Some of these entries are 3+ which means 3 or more dependents. Since we don't know the actual number, we can treat this as a separate category.\n",
    "- About 78% of customers are graduate. It looks like the majority of customers are educated.\n",
    "- Only ~14% of customers are self-employed. This indicates that salaried people apply more for the home loan.\n",
    "- The majority of customers, about 84%, have credit history as per the required guidelines.\n",
    "- The count of observations is approximately evenly distributed among Urban, Semi-Urban, and Rural areas. This implies that the company has a presence in all kinds of areas.\n",
    "- The number of home loans approved is comparatively higher than the number of those not approved. About 69% of applied loans get approved. Although we have limited data, the reason for this could either be a fairly lenient attitude from the company towards approving loans OR that many of the customers applying for these home loans are actually eligible for them."
   ]
  },
  {
   "cell_type": "markdown",
   "metadata": {
    "id": "ukUAlvRtDPy3"
   },
   "source": [
    "#### Imputing missing values"
   ]
  },
  {
   "cell_type": "code",
   "execution_count": 10,
   "metadata": {
    "id": "G-QGGBGJDPy4"
   },
   "outputs": [],
   "source": [
    "#Imputing missing values with mode for the categorical variables \n",
    "for col in ['Gender', 'Married', 'Dependents', 'Self_Employed', 'Loan_Amount_Term', 'Credit_History']:\n",
    "    data[col].fillna(value=data[col].mode()[0], inplace=True)"
   ]
  },
  {
   "cell_type": "code",
   "execution_count": 11,
   "metadata": {
    "id": "rS94M4lcDPy5"
   },
   "outputs": [],
   "source": [
    "#Replacing 0's with null values in loan amount \n",
    "data.LoanAmount.replace(0, np.nan, inplace=True)\n",
    "\n",
    "#Imputing null values in loan amount with the median\n",
    "data.LoanAmount.fillna(value=data.LoanAmount.median(), inplace=True)"
   ]
  },
  {
   "cell_type": "markdown",
   "metadata": {
    "id": "EhDZ1oRaDPy6"
   },
   "source": [
    "**Now that we are done with the data preprocessing. Let's explore the data a bit more with bivariate analysis.**"
   ]
  },
  {
   "cell_type": "markdown",
   "metadata": {
    "id": "1jI1J2bkb0jq"
   },
   "source": [
    "**Let's check how credit history is related to loan status**"
   ]
  },
  {
   "cell_type": "code",
   "execution_count": 12,
   "metadata": {
    "id": "-rQnVxvdDPy_",
    "outputId": "9493c640-57f9-4589-80be-9e206b0227a6"
   },
   "outputs": [
    {
     "data": {
      "text/plain": [
       "<AxesSubplot:xlabel='Credit_History', ylabel='count'>"
      ]
     },
     "execution_count": 12,
     "metadata": {},
     "output_type": "execute_result"
    },
    {
     "data": {
      "image/png": "[encoded data removed]",
      "text/plain": [
       "<Figure size 432x288 with 1 Axes>"
      ]
     },
     "metadata": {
      "needs_background": "light"
     },
     "output_type": "display_data"
    }
   ],
   "source": [
    "sns.countplot(x=data.Credit_History, hue=data.Loan_Status)"
   ]
  },
  {
   "cell_type": "markdown",
   "metadata": {
    "id": "UJxePuBoDPzA"
   },
   "source": [
    "- The plot shows that credit history is an important factor while checking loan eligibility. There are very few customers whose loan was approved even when their credit history did not meet required guidelines."
   ]
  },
  {
   "cell_type": "markdown",
   "metadata": {
    "id": "hGn6jFYgb0kG"
   },
   "source": [
    "**Let's check the relationship between education and loan status**"
   ]
  },
  {
   "cell_type": "code",
   "execution_count": 13,
   "metadata": {
    "id": "aGrFWboqDPzB",
    "outputId": "176f49f1-1975-42bd-daff-c25ad7e1cf10"
   },
   "outputs": [
    {
     "data": {
      "text/plain": [
       "<AxesSubplot:xlabel='Education', ylabel='count'>"
      ]
     },
     "execution_count": 13,
     "metadata": {},
     "output_type": "execute_result"
    },
    {
     "data": {
      "image/png": "[encoded data removed]",
      "text/plain": [
       "<Figure size 432x288 with 1 Axes>"
      ]
     },
     "metadata": {
      "needs_background": "light"
     },
     "output_type": "display_data"
    }
   ],
   "source": [
    "sns.countplot(x=data.Education, hue=data.Loan_Status)"
   ]
  },
  {
   "cell_type": "markdown",
   "metadata": {
    "id": "bkbSi9QdDPzC"
   },
   "source": [
    "- We can see that graduate customers are more likely to get loans.\n",
    "- This might be because, in general, graduate customers have higher income when compared to non-graduates. Let's check if this is true."
   ]
  },
  {
   "cell_type": "markdown",
   "metadata": {
    "id": "uJpSDK7pb0kN"
   },
   "source": [
    "Let's check how property area is related with loan status"
   ]
  },
  {
   "cell_type": "code",
   "execution_count": 14,
   "metadata": {
    "id": "uW4DfezQDPzF",
    "outputId": "9d4f8e25-35c4-4f23-d0d0-9101a2a551a6"
   },
   "outputs": [
    {
     "data": {
      "text/plain": [
       "<AxesSubplot:xlabel='Property_Area', ylabel='count'>"
      ]
     },
     "execution_count": 14,
     "metadata": {},
     "output_type": "execute_result"
    },
    {
     "data": {
      "image/png": "[encoded data removed]",
      "text/plain": [
       "<Figure size 432x288 with 1 Axes>"
      ]
     },
     "metadata": {
      "needs_background": "light"
     },
     "output_type": "display_data"
    }
   ],
   "source": [
    "sns.countplot(x=data.Property_Area, hue=data.Loan_Status)"
   ]
  },
  {
   "cell_type": "markdown",
   "metadata": {
    "id": "5Od0NdHRDPzG"
   },
   "source": [
    "- The plot shows that more loans are approved for properties in semi-urban areas. \n",
    "- This could be due to several reasons. The bank might be charging higher interest rates for semi-urban areas or the current customer base of the company from semi-urban areas might actually be more eligible for home loans based on loan applicant features. We cannot be certain as we don't have the data to support this claim.\n",
    "\n",
    "**Now that we have processed and explored our data, let's prepare it for modeling.**"
   ]
  },
  {
   "cell_type": "markdown",
   "metadata": {
    "id": "3NtIHppoDPzH"
   },
   "source": [
    "## Preparing data for modeling"
   ]
  },
  {
   "cell_type": "markdown",
   "metadata": {
    "id": "N6RcR8FrDPzH"
   },
   "source": [
    "- Models cannot take non-numeric inputs. So, we will first create dummy variables for all the categorical variables.\n",
    "- We will then split the data into train and test sets."
   ]
  },
  {
   "cell_type": "code",
   "execution_count": 15,
   "metadata": {
    "id": "mnL99NcgDPzI"
   },
   "outputs": [],
   "source": [
    "#Separating target variable and other variables\n",
    "X=data.drop(columns='Loan_Status')\n",
    "Y=data['Loan_Status']"
   ]
  },
  {
   "cell_type": "code",
   "execution_count": 16,
   "metadata": {
    "id": "AGlNuXAkDPzJ"
   },
   "outputs": [],
   "source": [
    "#Creating dummy variables \n",
    "#drop_first=True is used to avoid redundant variables\n",
    "X = pd.get_dummies(X, drop_first=True)"
   ]
  },
  {
   "cell_type": "code",
   "execution_count": 17,
   "metadata": {
    "id": "UR6NWZNnDPzK",
    "outputId": "2a14f95d-8b8e-44ec-9add-2fdc204f8182"
   },
   "outputs": [],
   "source": [
    "#Splitting the data into train and test sets\n",
    "X_train,X_test,y_train,y_test=train_test_split(X,Y,test_size=0.30,random_state=1)"
   ]
  },
  {
   "cell_type": "markdown",
   "metadata": {
    "id": "x9Ycp1rkDPzL"
   },
   "source": [
    "## Building Classification Models"
   ]
  },
  {
   "cell_type": "markdown",
   "metadata": {
    "id": "fajKKlPmDPzM"
   },
   "source": [
    "**Before training the model, let's choose the appropriate model evaluation criterion as per the problem on hand.**\n",
    "\n",
    "### Model evaluation criterion:\n",
    "\n",
    "#### Since this is a binary classification problem, the model can make wrong predictions in one of two ways:\n",
    "1. Predicting a customer is not eligible for a loan when the customer actually is eligible - Loss of opportunity\n",
    "2. Predicting a customer is eligible for a loan when the customer is actually not - Financial loss\n",
    "\n",
    "#### Which case is more important? \n",
    "* Predicting that the customer is eligible when he is not, because the person might default or not be able to return the loan, which would result in financial loss to the company.\n",
    "\n",
    "#### How to reduce this loss i.e need to reduce False Negatives?\n",
    "* In classification, the class of interest is considered the positive class. Here, the class of interest is 0 i.e. identifying non-eligible customers. So, the company wants to minimize the number of false negatives, in other words **Recall** is the evaluation criterion to be maximized."
   ]
  },
  {
   "cell_type": "markdown",
   "metadata": {
    "id": "3hUiY1AgDPzN"
   },
   "source": [
    "Also, let's create a function to calculate and print the classification report and confusion matrix so that we don't have to rewrite the same code repeatedly for each model."
   ]
  },
  {
   "cell_type": "code",
   "execution_count": 18,
   "metadata": {
    "id": "VxiT1LhpDPzN"
   },
   "outputs": [],
   "source": [
    "#function to print classification report and get confusion matrix in a proper format\n",
    "\n",
    "def metrics_score(actual, predicted):\n",
    "    print(classification_report(actual, predicted))\n",
    "    cm = confusion_matrix(actual, predicted)\n",
    "    plt.figure(figsize=(8,5))\n",
    "    sns.heatmap(cm, annot=True,  fmt='.2f', xticklabels=['Not Eligible', 'Eligible'], yticklabels=['Not Eligible', 'Eligible'])\n",
    "    plt.ylabel('Actual')\n",
    "    plt.xlabel('Predicted')\n",
    "    plt.show()"
   ]
  },
  {
   "cell_type": "markdown",
   "metadata": {
    "id": "KtY-QagUDPzO"
   },
   "source": [
    "### Logistic Regression"
   ]
  },
  {
   "cell_type": "code",
   "execution_count": 19,
   "metadata": {
    "id": "ZQCUzmrdDPzO",
    "outputId": "c6e2e9a4-7a85-4f1d-9007-a605e5b3a2a8"
   },
   "outputs": [
    {
     "data": {
      "text/plain": [
       "LogisticRegression(random_state=1)"
      ]
     },
     "execution_count": 19,
     "metadata": {},
     "output_type": "execute_result"
    }
   ],
   "source": [
    "#Fitting the model\n",
    "log_reg=LogisticRegression(random_state=1)\n",
    "log_reg.fit(X_train, y_train)"
   ]
  },
  {
   "cell_type": "markdown",
   "metadata": {
    "id": "-GGajC53DPzP"
   },
   "source": [
    "**Let's check the coefficient of each dependent variable in the data**"
   ]
  },
  {
   "cell_type": "code",
   "execution_count": 20,
   "metadata": {
    "id": "DUs6dFjdDPzQ",
    "outputId": "271ffac2-c77f-4d94-8ccf-c8e7f57687d6"
   },
   "outputs": [
    {
     "data": {
      "text/plain": [
       "Credit_History             3.026333\n",
       "Property_Area_Semiurban    0.821630\n",
       "Married_Yes                0.189433\n",
       "Dependents_2               0.154752\n",
       "Dependents_3+              0.113782\n",
       "total_income              -0.000010\n",
       "LoanAmount                -0.000475\n",
       "Property_Area_Urban       -0.006452\n",
       "Loan_Amount_Term          -0.065878\n",
       "Self_Employed_Yes         -0.098512\n",
       "Gender_Male               -0.105990\n",
       "Dependents_1              -0.145727\n",
       "Education_Not Graduate    -0.491760\n",
       "dtype: float64"
      ]
     },
     "execution_count": 20,
     "metadata": {},
     "output_type": "execute_result"
    }
   ],
   "source": [
    "pd.Series(log_reg.coef_[0], index=X_train.columns).sort_values(ascending=False)"
   ]
  },
  {
   "cell_type": "markdown",
   "metadata": {
    "id": "h8ijwE7vDPzR"
   },
   "source": [
    "- The credit history is the most important variable while checking the eligibility for a loan as it has the largest coefficient. As observed earlier, if a customer's credit history meets the required guidelines, then he/she is more likely to get a home loan. \n",
    "- `Property_Area_Semiurban` is the second most important variable but `Property_Area_Urban` has a very small coefficient. As observed earlier, customers are more likely to get the loan if their property is situated in semi-urban areas.\n",
    "- `Education_Not Graduate` has the third highest coefficient (in terms of magnitude). This is aligned with our observation earlier that non-graduate customers are less likely to get a home loan.\n"
   ]
  },
  {
   "cell_type": "markdown",
   "metadata": {
    "id": "jdRHileGDPzT"
   },
   "source": [
    "**Now, let's check the performance of the model on the training set**"
   ]
  },
  {
   "cell_type": "code",
   "execution_count": 21,
   "metadata": {
    "id": "AVAZY2p-DPzU",
    "outputId": "8e8b7226-2df9-465c-a3b3-ae41ec36341f"
   },
   "outputs": [
    {
     "name": "stdout",
     "output_type": "stream",
     "text": [
      "              precision    recall  f1-score   support\n",
      "\n",
      "           0       0.91      0.44      0.59       131\n",
      "           1       0.80      0.98      0.88       298\n",
      "\n",
      "    accuracy                           0.82       429\n",
      "   macro avg       0.85      0.71      0.74       429\n",
      "weighted avg       0.83      0.82      0.79       429\n",
      "\n"
     ]
    },
    {
     "data": {
      "image/png": "[encoded data removed]",
      "text/plain": [
       "<Figure size 576x360 with 2 Axes>"
      ]
     },
     "metadata": {
      "needs_background": "light"
     },
     "output_type": "display_data"
    }
   ],
   "source": [
    "# Checking performance on the training data\n",
    "y_pred_train = log_reg.predict(X_train)\n",
    "metrics_score(y_train, y_pred_train)"
   ]
  },
  {
   "cell_type": "markdown",
   "metadata": {
    "id": "lb9dV9I4DPzW"
   },
   "source": [
    "**Observations:**\n",
    "\n",
    "- The precision is high but the recall for class 0 is quite low i.e. the model is not able to identify non-eligible customers.\n",
    "- Accuracy is about 82%. "
   ]
  },
  {
   "cell_type": "code",
   "execution_count": 22,
   "metadata": {},
   "outputs": [
    {
     "name": "stdout",
     "output_type": "stream",
     "text": [
      "              precision    recall  f1-score   support\n",
      "\n",
      "           0       0.92      0.39      0.55        61\n",
      "           1       0.77      0.98      0.86       124\n",
      "\n",
      "    accuracy                           0.79       185\n",
      "   macro avg       0.85      0.69      0.71       185\n",
      "weighted avg       0.82      0.79      0.76       185\n",
      "\n"
     ]
    },
    {
     "data": {
      "image/png": "[encoded data removed]",
      "text/plain": [
       "<Figure size 576x360 with 2 Axes>"
      ]
     },
     "metadata": {
      "needs_background": "light"
     },
     "output_type": "display_data"
    }
   ],
   "source": [
    "# Checking performance on the test data\n",
    "y_pred_test = log_reg.predict(X_test)\n",
    "metrics_score(y_test, y_pred_test)"
   ]
  },
  {
   "cell_type": "markdown",
   "metadata": {},
   "source": [
    "- Model performance on train and test data seem to be quite same, this signifies that the model is not over fitting and giving a generalized model."
   ]
  },
  {
   "cell_type": "code",
   "execution_count": 23,
   "metadata": {},
   "outputs": [],
   "source": [
    "#fitting SVM\n",
    "svm = SVC(kernel = 'linear')\n",
    "model = svm.fit(X = X_train, y = y_train)"
   ]
  },
  {
   "cell_type": "code",
   "execution_count": 24,
   "metadata": {},
   "outputs": [
    {
     "name": "stdout",
     "output_type": "stream",
     "text": [
      "              precision    recall  f1-score   support\n",
      "\n",
      "           0       0.94      0.34      0.50       131\n",
      "           1       0.77      0.99      0.87       298\n",
      "\n",
      "    accuracy                           0.79       429\n",
      "   macro avg       0.86      0.67      0.69       429\n",
      "weighted avg       0.82      0.79      0.76       429\n",
      "\n"
     ]
    },
    {
     "data": {
      "image/png": "[encoded data removed]",
      "text/plain": [
       "<Figure size 576x360 with 2 Axes>"
      ]
     },
     "metadata": {
      "needs_background": "light"
     },
     "output_type": "display_data"
    }
   ],
   "source": [
    "# Checking performance on the training data\n",
    "y_pred_train_svm = model.predict(X_train)\n",
    "metrics_score(y_train, y_pred_train_svm)"
   ]
  },
  {
   "cell_type": "markdown",
   "metadata": {},
   "source": [
    "- SVM is also giving similar results as of logistic regression, with high precession and low recall and about 80% accuracy."
   ]
  },
  {
   "cell_type": "code",
   "execution_count": 25,
   "metadata": {},
   "outputs": [
    {
     "name": "stdout",
     "output_type": "stream",
     "text": [
      "              precision    recall  f1-score   support\n",
      "\n",
      "           0       0.93      0.23      0.37        61\n",
      "           1       0.72      0.99      0.84       124\n",
      "\n",
      "    accuracy                           0.74       185\n",
      "   macro avg       0.83      0.61      0.60       185\n",
      "weighted avg       0.79      0.74      0.68       185\n",
      "\n"
     ]
    },
    {
     "data": {
      "image/png": "[encoded data removed]",
      "text/plain": [
       "<Figure size 576x360 with 2 Axes>"
      ]
     },
     "metadata": {
      "needs_background": "light"
     },
     "output_type": "display_data"
    }
   ],
   "source": [
    "# Checking performance on the test data\n",
    "y_pred_test_svm = model.predict(X_test)\n",
    "metrics_score(y_test, y_pred_test_svm)"
   ]
  },
  {
   "cell_type": "markdown",
   "metadata": {},
   "source": [
    "- SVM model seem to overfit the data a bit, as the recall for th class 0 has reduced to .23 also the accuracy has come down to .74"
   ]
  },
  {
   "cell_type": "markdown",
   "metadata": {
    "id": "Yi0FiWbAl4H5"
   },
   "source": [
    "## Conclusion:"
   ]
  },
  {
   "cell_type": "markdown",
   "metadata": {
    "id": "TDNCgqlEDPzr"
   },
   "source": [
    "- I have been able to build a classifier to predict non-eligible customers and identified key factors that drive the eligibility process for home loans.\n",
    "- For the current data, logistic regression is performing better than the SVM classifier. Logistic regression is giving a generalized performance across train and test datasets whereas SVM is overfitting on the training data.\n"
   ]
  },
  {
   "cell_type": "markdown",
   "metadata": {
    "id": "2BkZh6eHluZK"
   },
   "source": [
    "## Recommendations:"
   ]
  },
  {
   "cell_type": "markdown",
   "metadata": {
    "id": "pkYdv30tlsoj"
   },
   "source": [
    "- People with a responsible and financially stable background i.e. whose credit history meets the required guidelines are more likely to be eligible for a loan and are a lower risk for the company.\n",
    "- Applicants with low credit history are more likely to fail to be accepted because they have a high chance of not repaying the loan.\n",
    "- The borrower's property area is a significant driver i.e. those who live in semi-urban neighborhoods are more likely to get the loan.\n",
    "- Education is also an important factor while checking the eligibility of a person for the loan. We identified that graduate customers are more likely to get the loan and are a lower risk for the company."
   ]
  }
 ],
 "metadata": {
  "colab": {
   "collapsed_sections": [
    "-Rlb274WDPy0",
    "NFJFyXLBb0kP",
    "GG9G-wVsb0kZ",
    "DmEGOVt8b0ki",
    "KBEGSN6ib0k3",
    "yiBb6GDPb0lC"
   ],
   "name": "Solution_Notebook_Classification_ Project.ipynb",
   "provenance": []
  },
  "kernelspec": {
   "display_name": "Python 3",
   "language": "python",
   "name": "python3"
  },
  "language_info": {
   "codemirror_mode": {
    "name": "ipython",
    "version": 3
   },
   "file_extension": ".py",
   "mimetype": "text/x-python",
   "name": "python",
   "nbconvert_exporter": "python",
   "pygments_lexer": "ipython3",
   "version": "3.8.8"
  }
 },
 "nbformat": 4,
 "nbformat_minor": 1
}
